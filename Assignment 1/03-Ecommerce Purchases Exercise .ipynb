{
 "cells": [
  {
   "cell_type": "markdown",
   "metadata": {},
   "source": [
    "___\n",
    "# Ecommerce Purchases Exercise\n",
    "\n",
    "In this Exercise you will be given some Fake Data about some purchases done through Amazon! Just go ahead and follow the directions and try your best to answer the questions and complete the tasks. Feel free to reference the solutions. Most of the tasks can be solved in different ways. For the most part, the questions get progressively harder.\n",
    "\n",
    "Please excuse anything that doesn't make \"Real-World\" sense in the dataframe, all the data is fake and made-up.\n",
    "\n",
    "Also note that all of these questions can be answered with one line of code.\n",
    "____\n",
    "** Import pandas and read in the Ecommerce Purchases csv file and set it to a DataFrame called ecom. **"
   ]
  },
  {
   "cell_type": "code",
   "execution_count": 1,
   "metadata": {},
   "outputs": [],
   "source": [
    "import pandas as pd"
   ]
  },
  {
   "cell_type": "code",
   "execution_count": 2,
   "metadata": {},
   "outputs": [],
   "source": [
    "ecom = pd.read_csv(\"Ecommerce Purchases\")"
   ]
  },
  {
   "cell_type": "markdown",
   "metadata": {},
   "source": [
    "**Check the head of the DataFrame.**"
   ]
  },
  {
   "cell_type": "code",
   "execution_count": 3,
   "metadata": {},
   "outputs": [
    {
     "name": "stdout",
     "output_type": "stream",
     "text": [
      "                                             Address    Lot AM or PM   \n",
      "0  16629 Pace Camp Apt. 448\\nAlexisborough, NE 77...  46 in       PM  \\\n",
      "1  9374 Jasmine Spurs Suite 508\\nSouth John, TN 8...  28 rn       PM   \n",
      "2                   Unit 0065 Box 5052\\nDPO AP 27450  94 vE       PM   \n",
      "3              7780 Julia Fords\\nNew Stacy, WA 45798  36 vm       PM   \n",
      "4  23012 Munoz Drive Suite 337\\nNew Cynthia, TX 5...  20 IE       AM   \n",
      "\n",
      "                                        Browser Info   \n",
      "0  Opera/9.56.(X11; Linux x86_64; sl-SI) Presto/2...  \\\n",
      "1  Opera/8.93.(Windows 98; Win 9x 4.90; en-US) Pr...   \n",
      "2  Mozilla/5.0 (compatible; MSIE 9.0; Windows NT ...   \n",
      "3  Mozilla/5.0 (Macintosh; Intel Mac OS X 10_8_0 ...   \n",
      "4  Opera/9.58.(X11; Linux x86_64; it-IT) Presto/2...   \n",
      "\n",
      "                           Company       Credit Card CC Exp Date   \n",
      "0                  Martinez-Herman  6011929061123406       02/20  \\\n",
      "1  Fletcher, Richards and Whitaker  3337758169645356       11/18   \n",
      "2       Simpson, Williams and Pham      675957666125       08/19   \n",
      "3  Williams, Marshall and Buchanan  6011578504430710       02/24   \n",
      "4        Brown, Watson and Andrews  6011456623207998       10/25   \n",
      "\n",
      "   CC Security Code                  CC Provider   \n",
      "0               900                 JCB 16 digit  \\\n",
      "1               561                   Mastercard   \n",
      "2               699                 JCB 16 digit   \n",
      "3               384                     Discover   \n",
      "4               678  Diners Club / Carte Blanche   \n",
      "\n",
      "                            Email                                     Job   \n",
      "0               pdunlap@yahoo.com  Scientist, product/process development  \\\n",
      "1              anthony41@reed.com                       Drilling engineer   \n",
      "2  amymiller@morales-harrison.com                Customer service manager   \n",
      "3     brent16@olson-robinson.info                       Drilling engineer   \n",
      "4     christopherwright@gmail.com                             Fine artist   \n",
      "\n",
      "        IP Address Language  Purchase Price  \n",
      "0  149.146.147.205       el           98.14  \n",
      "1     15.160.41.51       fr           70.73  \n",
      "2   132.207.160.22       de            0.95  \n",
      "3     30.250.74.19       es           78.04  \n",
      "4     24.140.33.94       es           77.82  \n"
     ]
    }
   ],
   "source": [
    "print(ecom.head())"
   ]
  },
  {
   "cell_type": "markdown",
   "metadata": {},
   "source": [
    "** How many rows and columns are there? **"
   ]
  },
  {
   "cell_type": "code",
   "execution_count": 4,
   "metadata": {},
   "outputs": [
    {
     "name": "stdout",
     "output_type": "stream",
     "text": [
      "10000\n",
      "14\n"
     ]
    }
   ],
   "source": [
    "rows = len(ecom.axes[0])\n",
    "col = len(ecom.axes[1])\n",
    "print(rows)\n",
    "print(col)"
   ]
  },
  {
   "cell_type": "markdown",
   "metadata": {},
   "source": [
    "** What is the average Purchase Price? **"
   ]
  },
  {
   "cell_type": "code",
   "execution_count": 5,
   "metadata": {},
   "outputs": [
    {
     "name": "stdout",
     "output_type": "stream",
     "text": [
      "50.347302\n"
     ]
    }
   ],
   "source": [
    "print(ecom[\"Purchase Price\"].mean())"
   ]
  },
  {
   "cell_type": "markdown",
   "metadata": {},
   "source": [
    "** What were the highest and lowest purchase prices? **"
   ]
  },
  {
   "cell_type": "code",
   "execution_count": 6,
   "metadata": {},
   "outputs": [
    {
     "name": "stdout",
     "output_type": "stream",
     "text": [
      "99.99\n"
     ]
    }
   ],
   "source": [
    "print(ecom[\"Purchase Price\"].max())"
   ]
  },
  {
   "cell_type": "code",
   "execution_count": 7,
   "metadata": {},
   "outputs": [
    {
     "name": "stdout",
     "output_type": "stream",
     "text": [
      "0.0\n"
     ]
    }
   ],
   "source": [
    "print(ecom[\"Purchase Price\"].min())"
   ]
  },
  {
   "cell_type": "markdown",
   "metadata": {},
   "source": [
    "** How many people have English 'en' as their Language of choice on the website? **"
   ]
  },
  {
   "cell_type": "code",
   "execution_count": 8,
   "metadata": {},
   "outputs": [
    {
     "data": {
      "text/plain": [
       "1098"
      ]
     },
     "execution_count": 8,
     "metadata": {},
     "output_type": "execute_result"
    }
   ],
   "source": [
    "ecom[\"Language\"].value_counts()[\"en\"]"
   ]
  },
  {
   "cell_type": "markdown",
   "metadata": {},
   "source": [
    "** How many people have the job title of \"Lawyer\" ? **\n"
   ]
  },
  {
   "cell_type": "code",
   "execution_count": 9,
   "metadata": {},
   "outputs": [
    {
     "data": {
      "text/plain": [
       "30"
      ]
     },
     "execution_count": 9,
     "metadata": {},
     "output_type": "execute_result"
    }
   ],
   "source": [
    "ecom[\"Job\"].value_counts()[\"Lawyer\"]"
   ]
  },
  {
   "cell_type": "markdown",
   "metadata": {},
   "source": [
    "** How many people made the purchase during the AM and how many people made the purchase during PM ? **\n",
    "\n",
    "**(Hint: Check out [value_counts()](http://pandas.pydata.org/pandas-docs/stable/generated/pandas.Series.value_counts.html) ) **"
   ]
  },
  {
   "cell_type": "code",
   "execution_count": 10,
   "metadata": {},
   "outputs": [
    {
     "name": "stdout",
     "output_type": "stream",
     "text": [
      "AM or PM\n",
      "PM    5068\n",
      "AM    4932\n",
      "Name: count, dtype: int64\n"
     ]
    }
   ],
   "source": [
    "print(ecom[\"AM or PM\"].value_counts())"
   ]
  },
  {
   "cell_type": "markdown",
   "metadata": {},
   "source": [
    "** What are the 5 most common Job Titles? **"
   ]
  },
  {
   "cell_type": "code",
   "execution_count": 11,
   "metadata": {},
   "outputs": [
    {
     "name": "stdout",
     "output_type": "stream",
     "text": [
      "Job\n",
      "Interior and spatial designer    31\n",
      "Lawyer                           30\n",
      "Social researcher                28\n",
      "Purchasing manager               27\n",
      "Designer, jewellery              27\n",
      "Name: count, dtype: int64\n"
     ]
    }
   ],
   "source": [
    "print(ecom[\"Job\"].value_counts().head(5))"
   ]
  },
  {
   "cell_type": "markdown",
   "metadata": {},
   "source": [
    "** Someone made a purchase that came from Lot: \"90 WT\" , what was the Purchase Price for this transaction? **"
   ]
  },
  {
   "cell_type": "code",
   "execution_count": 12,
   "metadata": {},
   "outputs": [
    {
     "name": "stdout",
     "output_type": "stream",
     "text": [
      "513 75.1\n"
     ]
    }
   ],
   "source": [
    "j = 0\n",
    "for i in range(0, len(ecom[\"Lot\"])):\n",
    "    if (ecom[\"Lot\"][i] == \"90 WT\"):\n",
    "        j = i\n",
    "print(j, ecom[\"Purchase Price\"][j])"
   ]
  },
  {
   "cell_type": "code",
   "execution_count": 13,
   "metadata": {},
   "outputs": [
    {
     "name": "stdout",
     "output_type": "stream",
     "text": [
      "1234 bondellen@williams-garza.com\n"
     ]
    }
   ],
   "source": [
    "j = 0\n",
    "for i in range(0, rows):\n",
    "    if (ecom[\"Credit Card\"][i] == 4926535242672853):\n",
    "        j = i\n",
    "print(j, ecom[\"Email\"][j])"
   ]
  },
  {
   "cell_type": "markdown",
   "metadata": {},
   "source": [
    "** How many people have American Express as their Credit Card Provider *and* made a purchase above $95 ?**"
   ]
  },
  {
   "cell_type": "code",
   "execution_count": 14,
   "metadata": {},
   "outputs": [
    {
     "name": "stdout",
     "output_type": "stream",
     "text": [
      "39\n"
     ]
    }
   ],
   "source": [
    "count = 0\n",
    "for i in range(0, rows):\n",
    "    if (ecom[\"CC Provider\"][i] == \"American Express\") * (ecom[\"Purchase Price\"][i] > 95) == 1:\n",
    "        count += 1\n",
    "print(count)"
   ]
  },
  {
   "cell_type": "markdown",
   "metadata": {},
   "source": [
    "** Hard: How many people have a credit card that expires in 2025? **"
   ]
  },
  {
   "cell_type": "code",
   "execution_count": 15,
   "metadata": {},
   "outputs": [
    {
     "name": "stdout",
     "output_type": "stream",
     "text": [
      "1033\n"
     ]
    }
   ],
   "source": [
    "count = 0\n",
    "for i in range(0, rows):\n",
    "    if ecom[\"CC Exp Date\"][i][-2:] == \"25\":\n",
    "        count += 1\n",
    "print(count)"
   ]
  },
  {
   "cell_type": "markdown",
   "metadata": {},
   "source": [
    "** Hard: What are the top 5 most popular email providers/hosts (e.g. gmail.com, yahoo.com, etc...) **"
   ]
  },
  {
   "cell_type": "code",
   "execution_count": 38,
   "metadata": {},
   "outputs": [
    {
     "name": "stdout",
     "output_type": "stream",
     "text": [
      "['hotmail.com', 'yahoo.com', 'gmail.com', 'smith.com', 'williams.com']\n"
     ]
    }
   ],
   "source": [
    "em = ecom[\"Email\"]\n",
    "#print(em)\n",
    "d = {}\n",
    "for i in range(0, len(em)):\n",
    "    if em[i][em[i].index('@') + 1:] not in d.keys():\n",
    "        d[em[i][em[i].index('@') + 1:]] = 1\n",
    "    else:\n",
    "        d[em[i][em[i].index('@') + 1:]] += 1\n",
    "#print(d.keys(3))\n",
    "ar1 = list(d.keys())\n",
    "ar2 = list(d.values())\n",
    "\n",
    "for i in range(0, len(ar2)):\n",
    "    for j in range(i + 1, len(ar2)):\n",
    "        if int(ar2[i]) < int(ar2[j]):\n",
    "            k = ar1[i]\n",
    "            ar1[i] = ar1[j]\n",
    "            ar1[j] = k\n",
    "            l = ar2[i]\n",
    "            ar2[i] = ar2[j]\n",
    "            ar2[j] = l\n",
    "print(ar1[:5])"
   ]
  },
  {
   "cell_type": "markdown",
   "metadata": {},
   "source": [
    "# Great Job!"
   ]
  }
 ],
 "metadata": {
  "kernelspec": {
   "display_name": "Python 3 (ipykernel)",
   "language": "python",
   "name": "python3"
  },
  "language_info": {
   "codemirror_mode": {
    "name": "ipython",
    "version": 3
   },
   "file_extension": ".py",
   "mimetype": "text/x-python",
   "name": "python",
   "nbconvert_exporter": "python",
   "pygments_lexer": "ipython3",
   "version": "3.8.7"
  }
 },
 "nbformat": 4,
 "nbformat_minor": 1
}
